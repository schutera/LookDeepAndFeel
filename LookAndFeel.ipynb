{
 "cells": [
  {
   "cell_type": "markdown",
   "metadata": {},
   "source": [
    "# Deep Classroom\n",
    "Contact and Copyright: Mark.schutera@mailbox.com\n",
    "\n",
    "\n",
    "\n",
    "I am happy to have you. In the following, you will interactively experience and explore how a hosted jupyter notebook on binder feels and looks like. Yes you jumped right into it. The click of a link and waiting for the server to launch was everything needed.\n",
    "\n",
    "Just to make you comfortable in the following you will get to know\n",
    "- Markdown and code cells\n",
    "- Execute a code cell for the first time\n",
    "\n",
    "After this dive, you will know ...\n",
    "- the basics of jupyter notebooks\n",
    "- whether it is worth to have your notebook hosted online\n",
    "\n",
    "This course will help you to understand how a hosted lecture looks like. You will be well on your way to decide how you want to present your jupyter notebook to your audience, make the world a better place, teach others deep learning and machine learning, you will enable them to solve the pressing problems of today and tomorrow. This sounds exciting - it is! And you are precisely in the right place - Buckle Up! <br>\n",
    "\n",
    "<img src=\"welcome.svg\" width=\"500\"/>\n",
    "\n"
   ]
  },
  {
   "cell_type": "markdown",
   "metadata": {},
   "source": [
    "\n",
    "## Getting comfortable in the driver's seat!\n",
    "\n",
    "The interface you are seeing in front of you is called jupyter notebook, an excellent interactive way to present and communicate code and coding concepts. Think of it as your cockpit. The nice thing is that in the back, we already got your engine preheated and ready to rumble, waiting for you to kick the pedal to the metal. \n",
    "\n",
    "In principle, this notebook is structured in cells, which get highlighted once you select them (mouse click or arrow buttons). There are two types of cells. The markdown cells (such as this one) are for everything that is not code. Here you will find explanations, descriptions, figures, and many more. The other type of cell is for code. Here you can interactively write, change, paste, and execute code and run it within your browser. \n",
    "\n",
    "Navigate to the next cell by using the down-arrow or click on the next cell...\n",
    "\n"
   ]
  },
  {
   "cell_type": "code",
   "execution_count": null,
   "metadata": {},
   "outputs": [],
   "source": [
    "\n",
    "# Great job. This is an interactive python cell with an easy print function. Feel free to change and play around with it.\n",
    "\n",
    "print('Ready Player One!')\n",
    "\n",
    "# A hashtag is used to comment on stuff that is not executed as code. This is useful if you want to add an explanation or further relevant information to your code.\n",
    "# Run a cell by clicking the Run button above, or by Ctrl + Enter (on your german keyboard, this is Strg + Enter) \n",
    "\n",
    "# Notice the output below the cell.\n"
   ]
  },
  {
   "cell_type": "markdown",
   "metadata": {},
   "source": [
    "\n",
    "## Making your first moves\n",
    "\n",
    "Next, welcome to the world of what we call sanity checks.\n",
    "Every now and then, you will find sanity checks below your interactive code cells. \n",
    "These are to make sure that your code does what it should (this is usually called a [unit test](https://en.wikipedia.org/wiki/Unit_testing)).\n",
    "Once your code passed the unit test, it is safe for you to go ahead with the notebook.\n",
    "So do not touch the code within a sanity check cell. Instead, just run it and fix your code in the respective cell.\n",
    "\n"
   ]
  },
  {
   "cell_type": "code",
   "execution_count": 5,
   "metadata": {},
   "outputs": [
    {
     "name": "stdout",
     "output_type": "stream",
     "text": [
      "The answer to life, the universe and everything is:  42\n"
     ]
    }
   ],
   "source": [
    "\n",
    "# Write a function that adds a to b and returns c\n",
    "\n",
    "def add(a,b):\n",
    "    c = a + b '''your code goes here'''\n",
    "    # the code goes here flag has to be removed and indicates that you need to pick your brain and write some code. \n",
    "    # To speed things up I already implemented the add function. Go ahead and try something else with this cell.\n",
    "    \n",
    "    return c\n",
    "\n",
    "\n",
    "print('The answer to life, the universe and everything is: ', add(40, 2))\n"
   ]
  },
  {
   "cell_type": "markdown",
   "metadata": {},
   "source": [
    "## Talking about brains\n",
    "\n",
    "Your brain is the most astonishing multi-purpose computer around. And neuroscientists and engineers alike have been trying to understand the mechanics of brains, to apply their findings to other fields, such as computer science. This is how the idea of artificial neural networks came into being. <br>\n",
    "\n",
    "Your brain comprises approximately 80 billion neurons, ...\n",
    "\n",
    "\n",
    "Okay let's not rush things. This should have given you an idea on how a hosted jupyter notebook feels. \n",
    "I hope you enjoyed the ride and I am happy to read your message:\n",
    "\n",
    "[write me](mailto:mark.schutera@mailbox.org)\n"
   ]
  }
 ],
 "metadata": {
  "kernelspec": {
   "display_name": "tensorflow",
   "language": "python",
   "name": "tensorflow"
  },
  "language_info": {
   "codemirror_mode": {
    "name": "ipython",
    "version": 3
   },
   "file_extension": ".py",
   "mimetype": "text/x-python",
   "name": "python",
   "nbconvert_exporter": "python",
   "pygments_lexer": "ipython3",
   "version": "3.6.7"
  }
 },
 "nbformat": 4,
 "nbformat_minor": 2
}
